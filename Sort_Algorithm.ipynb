{
  "nbformat": 4,
  "nbformat_minor": 0,
  "metadata": {
    "colab": {
      "provenance": [],
      "authorship_tag": "ABX9TyMWHKfbAKIo3umcR7RuNHQY",
      "include_colab_link": true
    },
    "kernelspec": {
      "name": "python3",
      "display_name": "Python 3"
    },
    "language_info": {
      "name": "python"
    }
  },
  "cells": [
    {
      "cell_type": "markdown",
      "metadata": {
        "id": "view-in-github",
        "colab_type": "text"
      },
      "source": [
        "<a href=\"https://colab.research.google.com/github/bhuvana-ak/code_ws/blob/main/Sort_Algorithm.ipynb\" target=\"_parent\"><img src=\"https://colab.research.google.com/assets/colab-badge.svg\" alt=\"Open In Colab\"/></a>"
      ]
    },
    {
      "cell_type": "markdown",
      "source": [],
      "metadata": {
        "id": "kXNFqTv3hjVz"
      }
    },
    {
      "cell_type": "code",
      "source": [
        "import pdb"
      ],
      "metadata": {
        "id": "A7yvu-aoiMWz"
      },
      "execution_count": null,
      "outputs": []
    },
    {
      "cell_type": "code",
      "execution_count": null,
      "metadata": {
        "colab": {
          "base_uri": "https://localhost:8080/"
        },
        "id": "O0SlMevwhfBk",
        "outputId": "9f7bcb8c-7e7b-4a71-93b3-779ce2e33b01"
      },
      "outputs": [
        {
          "output_type": "stream",
          "name": "stdout",
          "text": [
            "left_half ['Pride and Prejudice', 'The Great Gatsby']\n",
            "left_half ['Pride and Prejudice']\n",
            "right_half ['The Great Gatsby']\n",
            "left_half,right_half ['Pride and Prejudice'] ['The Great Gatsby']\n",
            "books ['Pride and Prejudice', 'The Great Gatsby']\n",
            "i,j,k 1 0 1\n",
            "i < len(left_half 1 1\n",
            "j < len(right_half) 0 ['The Great Gatsby']\n",
            "while i books[k] ['Pride and Prejudice', 'The Great Gatsby']\n",
            "j < len(right_half) 0 ['The Great Gatsby']\n",
            "while j books[k] ['Pride and Prejudice', 'The Great Gatsby']\n",
            "right_half ['To Kill a Mockingbird', '1984', 'The Catcher in the Rye']\n",
            "left_half ['To Kill a Mockingbird']\n",
            "right_half ['1984', 'The Catcher in the Rye']\n",
            "left_half ['1984']\n",
            "right_half ['The Catcher in the Rye']\n",
            "left_half,right_half ['1984'] ['The Catcher in the Rye']\n",
            "books ['1984', 'The Catcher in the Rye']\n",
            "i,j,k 1 0 1\n",
            "i < len(left_half 1 1\n",
            "j < len(right_half) 0 ['The Catcher in the Rye']\n",
            "while i books[k] ['1984', 'The Catcher in the Rye']\n",
            "j < len(right_half) 0 ['The Catcher in the Rye']\n",
            "while j books[k] ['1984', 'The Catcher in the Rye']\n",
            "left_half,right_half ['To Kill a Mockingbird'] ['1984', 'The Catcher in the Rye']\n",
            "books ['1984', '1984', 'The Catcher in the Rye']\n",
            "i,j,k 0 1 1\n",
            "i < len(left_half 0 1\n",
            "j < len(right_half) 1 ['1984', 'The Catcher in the Rye']\n",
            "left_half,right_half ['To Kill a Mockingbird'] ['1984', 'The Catcher in the Rye']\n",
            "books ['1984', 'The Catcher in the Rye', 'The Catcher in the Rye']\n",
            "i,j,k 0 2 2\n",
            "i < len(left_half 0 1\n",
            "j < len(right_half) 2 ['1984', 'The Catcher in the Rye']\n",
            "i < len(left_half 0 1\n",
            "while i books[k] ['1984', 'The Catcher in the Rye', 'To Kill a Mockingbird']\n",
            "while j books[k] ['1984', 'The Catcher in the Rye', 'To Kill a Mockingbird']\n",
            "left_half,right_half ['Pride and Prejudice', 'The Great Gatsby'] ['1984', 'The Catcher in the Rye', 'To Kill a Mockingbird']\n",
            "books ['1984', 'The Great Gatsby', 'To Kill a Mockingbird', '1984', 'The Catcher in the Rye']\n",
            "i,j,k 0 1 1\n",
            "i < len(left_half 0 2\n",
            "j < len(right_half) 1 ['1984', 'The Catcher in the Rye', 'To Kill a Mockingbird']\n",
            "left_half,right_half ['Pride and Prejudice', 'The Great Gatsby'] ['1984', 'The Catcher in the Rye', 'To Kill a Mockingbird']\n",
            "books ['1984', 'Pride and Prejudice', 'To Kill a Mockingbird', '1984', 'The Catcher in the Rye']\n",
            "i,j,k 1 1 2\n",
            "i < len(left_half 1 2\n",
            "j < len(right_half) 1 ['1984', 'The Catcher in the Rye', 'To Kill a Mockingbird']\n",
            "left_half,right_half ['Pride and Prejudice', 'The Great Gatsby'] ['1984', 'The Catcher in the Rye', 'To Kill a Mockingbird']\n",
            "books ['1984', 'Pride and Prejudice', 'The Catcher in the Rye', '1984', 'The Catcher in the Rye']\n",
            "i,j,k 1 2 3\n",
            "i < len(left_half 1 2\n",
            "j < len(right_half) 2 ['1984', 'The Catcher in the Rye', 'To Kill a Mockingbird']\n",
            "left_half,right_half ['Pride and Prejudice', 'The Great Gatsby'] ['1984', 'The Catcher in the Rye', 'To Kill a Mockingbird']\n",
            "books ['1984', 'Pride and Prejudice', 'The Catcher in the Rye', 'The Great Gatsby', 'The Catcher in the Rye']\n",
            "i,j,k 2 2 4\n",
            "i < len(left_half 2 2\n",
            "j < len(right_half) 2 ['1984', 'The Catcher in the Rye', 'To Kill a Mockingbird']\n",
            "while i books[k] ['1984', 'Pride and Prejudice', 'The Catcher in the Rye', 'The Great Gatsby', 'The Catcher in the Rye']\n",
            "j < len(right_half) 2 ['1984', 'The Catcher in the Rye', 'To Kill a Mockingbird']\n",
            "while j books[k] ['1984', 'Pride and Prejudice', 'The Catcher in the Rye', 'The Great Gatsby', 'To Kill a Mockingbird']\n",
            "['1984', 'Pride and Prejudice', 'The Catcher in the Rye', 'The Great Gatsby', 'To Kill a Mockingbird']\n"
          ]
        }
      ],
      "source": [
        "def merge_sort(books):\n",
        "  \"\"\"Sorts a list of book titles alphabetically using Merge Sort.\"\"\"\n",
        "\n",
        "  if len(books) > 1:\n",
        "    mid = len(books) // 2\n",
        "    left_half = books[:mid]\n",
        "    right_half = books[mid:]\n",
        "    print(\"left_half\",left_half)\n",
        "    merge_sort(left_half)\n",
        "    print(\"right_half\",right_half)\n",
        "    merge_sort(right_half)\n",
        "\n",
        "    i = j = k = 0\n",
        "\n",
        "    while i < len(left_half) and j < len(right_half):\n",
        "      print(\"left_half,right_half\",left_half,right_half)\n",
        "\n",
        "      if left_half[i] < right_half[j]:\n",
        "        books[k] = left_half[i]\n",
        "        i += 1\n",
        "      else:\n",
        "        books[k] = right_half[j]\n",
        "        j += 1\n",
        "      k += 1\n",
        "      print(\"books\",books)\n",
        "      print(\"i,j,k\",i,j,k)\n",
        "      print(\"i < len(left_half\",i,len(left_half))\n",
        "      print(\"j < len(right_half)\",j,right_half)\n",
        "    while i < len(left_half):\n",
        "      print(\"i < len(left_half\",i,len(left_half))\n",
        "      books[k] = left_half[i]\n",
        "      i += 1\n",
        "      k += 1\n",
        "    print(\"while i books[k]\",books)\n",
        "\n",
        "    while j < len(right_half):\n",
        "      print(\"j < len(right_half)\",j,right_half)\n",
        "      books[k] = right_half[j]\n",
        "      j += 1\n",
        "      k += 1\n",
        "    print(\"while j books[k]\",books)\n",
        "\n",
        "# Example usage\n",
        "books = [\"Pride and Prejudice\", \"The Great Gatsby\", \"To Kill a Mockingbird\", \"1984\", \"The Catcher in the Rye\"]\n",
        "merge_sort(books)\n",
        "print(books)"
      ]
    },
    {
      "cell_type": "markdown",
      "source": [],
      "metadata": {
        "id": "I_JlnZI1veBp"
      }
    },
    {
      "cell_type": "code",
      "source": [
        "%tb"
      ],
      "metadata": {
        "id": "4rUxtOmThxOs"
      },
      "execution_count": null,
      "outputs": []
    },
    {
      "cell_type": "markdown",
      "source": [
        "Bucket sort'\n",
        "You're a teacher and have a list of exam scores for your students. The scores range from 0 to 100. You want to sort these scores efficiently to determine the grade distribution and identify the top performers.\n",
        "\n",
        "scores = [85, 72, 94, 63, 55, 91, 78, 88]"
      ],
      "metadata": {
        "id": "C64QNcNqve6j"
      }
    },
    {
      "cell_type": "code",
      "source": [
        "\n",
        "scores = [85, 72, 98, 94, 63, 55, 91, 78, 88, 87]\n",
        "buckets = [[] for _ in range(10)]\n",
        "print(buckets)\n",
        "\n",
        "for score in scores:\n",
        "  i = score // 10\n",
        "  buckets[i-1].append(score)\n",
        "\n",
        "print(buckets)\n",
        "\n",
        "\n",
        "def insertion_sort(bucket):\n",
        "  for i in range(1, len(bucket)):\n",
        "    j = i-1\n",
        "    temp = bucket[i]\n",
        "    while j >=0 and temp < bucket[j]:\n",
        "        bucket[j+1]=bucket[j]\n",
        "        j -=1\n",
        "    bucket[j+1] = temp\n",
        "  return bucket\n",
        "  #98,94,91\n",
        "  # 0,1,2\n",
        "  # key = 94\n",
        "  #j = 0\n",
        "\n",
        "  # for i in range(1, len(bucket)):\n",
        "  #   key = bucket[i]  # Store the value to be inserted\n",
        "  #   j = i - 1\n",
        "  #   while j >= 0 and key < bucket[j]:\n",
        "  #       bucket[j + 1] = bucket[j]  # Shift elements to the right\n",
        "  #       j -= 1\n",
        "  #   bucket[j + 1] = key  # Insert the key at its correct position\n",
        "  # return bucket\n",
        "\n",
        "for bucket in buckets:\n",
        "  print(insertion_sort(bucket))\n",
        "\n",
        "sorted_result = []\n",
        "for bucket in buckets:\n",
        "  sorted_result.extend(bucket)\n",
        "\n",
        "print(sorted_result)\n"
      ],
      "metadata": {
        "colab": {
          "base_uri": "https://localhost:8080/"
        },
        "id": "rUgu5ML8vsjf",
        "outputId": "b3ea22ac-961a-4d08-a44a-a9cc34818f79"
      },
      "execution_count": null,
      "outputs": [
        {
          "output_type": "stream",
          "name": "stdout",
          "text": [
            "[[], [], [], [], [], [], [], [], [], []]\n",
            "[[], [], [], [], [55], [63], [72, 78], [85, 88, 87], [98, 94, 91], []]\n",
            "[]\n",
            "[]\n",
            "[]\n",
            "[]\n",
            "[55]\n",
            "[63]\n",
            "[72, 78]\n",
            "[85, 87, 88]\n",
            "[91, 94, 98]\n",
            "[]\n",
            "[55, 63, 72, 78, 85, 87, 88, 91, 94, 98]\n"
          ]
        }
      ]
    },
    {
      "cell_type": "code",
      "source": [
        "def insertion_sort(bucket):\n",
        "\n",
        "  for i in range(1, len(bucket)):\n",
        "    j = i-1\n",
        "    temp = bucket[i]\n",
        "    print(\"i,j,temp,buck\",i,j,temp,bucket)\n",
        "    while j >=0 and temp < bucket[j]:\n",
        "        bucket[j+1]=bucket[j]\n",
        "        j -=1\n",
        "    bucket[j+1] = temp\n",
        "  return bucket\n",
        "\n",
        "print(insertion_sort([8,7,9,5]))"
      ],
      "metadata": {
        "colab": {
          "base_uri": "https://localhost:8080/"
        },
        "id": "HFRAheqT5tEG",
        "outputId": "aaa53b85-8808-41a2-9df3-93882babcaad"
      },
      "execution_count": null,
      "outputs": [
        {
          "output_type": "stream",
          "name": "stdout",
          "text": [
            "i,j,temp,buck 1 0 7 [8, 7, 9, 5]\n",
            "i,j,temp,buck 2 1 9 [7, 8, 9, 5]\n",
            "i,j,temp,buck 3 2 5 [7, 8, 9, 5]\n",
            "[5, 7, 8, 9]\n"
          ]
        }
      ]
    }
  ]
}