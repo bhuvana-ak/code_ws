{
  "nbformat": 4,
  "nbformat_minor": 0,
  "metadata": {
    "colab": {
      "provenance": [],
      "authorship_tag": "ABX9TyN5WW0iYwsMP9fHDkoyaWrT",
      "include_colab_link": true
    },
    "kernelspec": {
      "name": "python3",
      "display_name": "Python 3"
    },
    "language_info": {
      "name": "python"
    }
  },
  "cells": [
    {
      "cell_type": "markdown",
      "metadata": {
        "id": "view-in-github",
        "colab_type": "text"
      },
      "source": [
        "<a href=\"https://colab.research.google.com/github/bhuvana-ak/code_ws/blob/main/API_DESIGN.ipynb\" target=\"_parent\"><img src=\"https://colab.research.google.com/assets/colab-badge.svg\" alt=\"Open In Colab\"/></a>"
      ]
    },
    {
      "cell_type": "code",
      "execution_count": null,
      "metadata": {
        "id": "frULpmjg3Pyb"
      },
      "outputs": [],
      "source": []
    },
    {
      "cell_type": "markdown",
      "source": [
        "**API DESIGN**\n",
        "Interface between client and webserver\n",
        "\n",
        "---\n",
        "\n",
        "\n",
        "Type of API:\n",
        "\n",
        "1.   REST\n",
        "2.   GRAPHQL\n",
        "3.   gRPC\n",
        "\n",
        "Communication Protocol:\n",
        "1. Http\n",
        "2. Websockets\n",
        "3. Others\n",
        "Data Transport Mechanisms:\n",
        "1. json\n",
        "2. xml\n",
        "3. Protocol Buffers\n",
        "\n",
        "API Properties:\n",
        "1. API should not mutate data and idempotent\n",
        "2. Inputs and outputs should be clearly defined.\n",
        "\n",
        "Security -\n",
        "1. Authentication for private apis\n",
        "2. Rate Limiting\n",
        "3. Secure Headers\n",
        "4. Logging\n",
        "\n",
        "Sorting and filtering\n",
        "\n",
        "Pagination:\n",
        "Query limit the results\n",
        "\n",
        "9. Performance\n",
        "ensure fater first load and make backoground request to server\n",
        "\n",
        "10. Error Handling:\n",
        "\n",
        "Server Driven Design:\n",
        "Mobile apps - each release triggers pull from app store\n",
        "\n",
        "Client Driven Design:\n",
        "\n",
        "\n",
        "\n",
        "\n"
      ],
      "metadata": {
        "id": "pWk1mARl3Q7B"
      }
    },
    {
      "cell_type": "code",
      "source": [],
      "metadata": {
        "id": "4Jv2UfAs3Syq"
      },
      "execution_count": null,
      "outputs": []
    }
  ]
}